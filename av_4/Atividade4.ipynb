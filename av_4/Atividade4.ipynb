{
  "nbformat": 4,
  "nbformat_minor": 0,
  "metadata": {
    "celltoolbar": "Slideshow",
    "kernelspec": {
      "display_name": "Python 3",
      "language": "python",
      "name": "python3"
    },
    "language_info": {
      "codemirror_mode": {
        "name": "ipython",
        "version": 3
      },
      "file_extension": ".py",
      "mimetype": "text/x-python",
      "name": "python",
      "nbconvert_exporter": "python",
      "pygments_lexer": "ipython3",
      "version": "3.7.6"
    },
    "latex_metadata": {
      "author": "Joelder Victor Antonino Aguiar"
    },
    "rise": {
      "enable_chalkboard": true,
      "header": "Joelder Antonino",
      "theme": "sky"
    },
    "colab": {
      "name": "Atividade4.ipynb",
      "provenance": [],
      "include_colab_link": true
    }
  },
  "cells": [
    {
      "cell_type": "markdown",
      "metadata": {
        "id": "view-in-github",
        "colab_type": "text"
      },
      "source": [
        "<a href=\"https://colab.research.google.com/github/mthonorio/calculo-numerico/blob/main/av_4/Atividade4.ipynb\" target=\"_parent\"><img src=\"https://colab.research.google.com/assets/colab-badge.svg\" alt=\"Open In Colab\"/></a>"
      ]
    },
    {
      "cell_type": "markdown",
      "metadata": {
        "id": "9Rl8eREGlc2_"
      },
      "source": [
        "# Avaliação 04 \n",
        "### Discente: Matheus Batista Honório\n",
        "### Matricula: 20190097098\n",
        "\n"
      ]
    },
    {
      "cell_type": "markdown",
      "metadata": {
        "id": "_vfcjqaZl_PN"
      },
      "source": [
        "## Questão 1:\n",
        "\n",
        "Usando os métodos de Euler e Runge-Kutta de $3^{a}$ ordem com\n",
        "h=0,2 calcule y(1) sabendo que y(x) é solução de $$2x+yy' = y^2, y(0) = 1$$\n",
        "Sabendo que a solução exata do PVI acima é $y=\\sqrt{2x+1}$\n",
        "calcule para os dois métodos o erro absoluto\n",
        "cometido na aproximação de y(1).\n"
      ]
    },
    {
      "cell_type": "markdown",
      "metadata": {
        "id": "jOMuUkEK1kfP"
      },
      "source": [
        "### Problemas de Valores iniciais (PVI)"
      ]
    },
    {
      "cell_type": "markdown",
      "metadata": {
        "id": "1Q-U8AFG1kfV"
      },
      "source": [
        "$$\n",
        "    \\begin{equation}\n",
        "      2x+yy' =y^{2}\n",
        "    \\end{equation} \\\\\n",
        "    y(0)=1\n",
        "$$\n",
        "#### Solução Exata:\n",
        "$$\n",
        "    \\begin{equation}\n",
        "      y=\\sqrt{2x+1}\n",
        "    \\end{equation}\n",
        "$$\n",
        "#### Isolando o y' na equação:\n",
        "$$ \n",
        "y′=\\frac{\\left(y^2-2x\\right)}{y}\n",
        "$$"
      ]
    },
    {
      "cell_type": "code",
      "metadata": {
        "id": "R_l8AMJB1kfW"
      },
      "source": [
        "import sympy as sy\n",
        "import numpy as np\n",
        "import time as tm\n",
        "import pandas as pd\n",
        "import matplotlib.pyplot as plt"
      ],
      "execution_count": null,
      "outputs": []
    },
    {
      "cell_type": "markdown",
      "metadata": {
        "id": "_mDyKIYT1kfX"
      },
      "source": [
        "$$y_{i+1}=y_{i}+f(x_{i},y_{i})h$$"
      ]
    },
    {
      "cell_type": "code",
      "metadata": {
        "id": "A-XjysjT1kfY"
      },
      "source": [
        "def m_euler(xi,xf,f,y0,h):\n",
        "    \n",
        "    n=int(((xf-xi)/h)+1)\n",
        "    x=np.linspace(xi,xf,n)\n",
        "    fx=np.empty(n)\n",
        "    fx[0]=y0\n",
        "    \n",
        "    for i in range(1,n):\n",
        "        fx[i]=fx[i-1]+f(x[i-1],fx[i-1])*h   \n",
        "    return x,fx   "
      ],
      "execution_count": null,
      "outputs": []
    },
    {
      "cell_type": "code",
      "metadata": {
        "id": "dnx41IWr1kfY"
      },
      "source": [
        "x,y=sy.symbols('x y')\n",
        "f=(y**2-2*x)/y\n",
        "f=sy.lambdify((x,y),f,'numpy')\n"
      ],
      "execution_count": null,
      "outputs": []
    },
    {
      "cell_type": "code",
      "metadata": {
        "id": "E0K4oPwE1kfZ",
        "colab": {
          "base_uri": "https://localhost:8080/",
          "height": 445
        },
        "outputId": "d680fe9a-e73a-47ef-e508-f8f6e61cbc38"
      },
      "source": [
        "fig=plt.figure(figsize=(11,7))\n",
        "plt.grid()\n",
        "h=[0.2]\n",
        "tempo=[]\n",
        "for i in h:\n",
        "    inicio = tm.perf_counter()\n",
        "    x,fx=m_euler(0,1,f,1,i)\n",
        "    fim = tm.perf_counter()\n",
        "    tempo.append(fim-inicio)\n",
        "    plt.plot(x,fx,linestyle='--')\n",
        "tabela={'Tempo':tempo}\n",
        "x=np.linspace(0,1)\n",
        "y=(((2*x)+1)**(0.5))\n",
        "_=plt.plot(x,y)\n",
        "_=plt.legend(tempo)\n",
        "print(fx[-1])"
      ],
      "execution_count": null,
      "outputs": [
        {
          "output_type": "stream",
          "name": "stdout",
          "text": [
            "1.8269481804182377\n"
          ]
        },
        {
          "output_type": "display_data",
          "data": {
            "image/png": "[encoded data removed]",
            "text/plain": [
              "<Figure size 792x504 with 1 Axes>"
            ]
          },
          "metadata": {
            "needs_background": "light"
          }
        }
      ]
    },
    {
      "cell_type": "markdown",
      "metadata": {
        "id": "qgT_6z35k-BC"
      },
      "source": [
        "#### Método de Runge Kutta de terceira ordem"
      ]
    },
    {
      "cell_type": "markdown",
      "metadata": {
        "id": "weGGr3K4k-BC"
      },
      "source": [
        "$$ y_{i+1}=y_{i}+\\dfrac{1}{6}(k_{1}+4k_{2}+k_{3})h$$\n",
        "\n",
        "$$ k_{1}=f(x_{i},y_{i}) $$\n",
        "\n",
        "$$ k_{2}=f(x_{i}+\\dfrac{1}{2}h,yi+\\dfrac{1}{2}k_{1}h)$$\n",
        "\n",
        "$$ k_{3}=f(x_{i}+h,y_{i}-k_{1}h+2k_{2}h)$$"
      ]
    },
    {
      "cell_type": "code",
      "metadata": {
        "id": "4Csu7M48k-BC"
      },
      "source": [
        "def runge_kutta_3(xi,xf,f,y0,h):\n",
        "    n=int(((xf-xi)/h)+1)\n",
        "    x=np.linspace(xi,xf,n)\n",
        "    k=np.empty(3)\n",
        "    fx=np.empty(n)\n",
        "    fx[0]=y0\n",
        "    for i in range(1,n):\n",
        "        k[0]=f(x[i-1],fx[i-1])\n",
        "        k[1]=f(x[i-1]+(0.5*h),fx[i-1]+(0.5*k[0]*h))\n",
        "        k[2]=f(x[i-1]+h,fx[i-1] + h*(-k[0]+2*k[1]))\n",
        "        \n",
        "        fx[i]=fx[i-1] + h*(k[0]+4*k[1]+k[2])/6  \n",
        "    return x,fx   "
      ],
      "execution_count": null,
      "outputs": []
    },
    {
      "cell_type": "code",
      "metadata": {
        "colab": {
          "base_uri": "https://localhost:8080/",
          "height": 501
        },
        "id": "cp3wW14sk-BC",
        "outputId": "ca3024fb-4b0f-409a-a9c9-33bbf00f58a5"
      },
      "source": [
        "tempo=[]\n",
        "\n",
        "x,y=sy.symbols('x y')\n",
        "\n",
        "f=(y**2-2*x)/y\n",
        "\n",
        "f=sy.lambdify((x,y),f,'numpy')\n",
        "\n",
        "fig=plt.figure(figsize=(15,8))\n",
        "\n",
        "plt.grid()\n",
        "\n",
        "inicio = tm.perf_counter()\n",
        "x,fx=runge_kutta_3(0,1,f,1,0.2)\n",
        "print(x,fx)\n",
        "fim = tm.perf_counter()\n",
        "tempo.append(fim-inicio)\n",
        "_=plt.plot(x,fx,linestyle='--',marker='v')\n",
        "x=np.linspace(0,1)\n",
        "y=(((2*x)+1)**(0.5))\n",
        "_=plt.plot(x,y)"
      ],
      "execution_count": null,
      "outputs": [
        {
          "output_type": "stream",
          "name": "stdout",
          "text": [
            "[0.  0.2 0.4 0.6 0.8 1. ] [1.         1.18324403 1.34172889 1.48340832 1.61272707 1.73247183]\n"
          ]
        },
        {
          "output_type": "display_data",
          "data": {
            "image/png": "[encoded data removed]",
            "text/plain": [
              "<Figure size 1080x576 with 1 Axes>"
            ]
          },
          "metadata": {
            "needs_background": "light"
          }
        }
      ]
    },
    {
      "cell_type": "markdown",
      "metadata": {
        "id": "Mn6GdMB9qnoz"
      },
      "source": [
        "#### Comparando os métodos acima e seus erros absolutos, vale ressaltar que o método de Runge Kutta de terceira ordem foi mais efetivo para questão proposta tendo o menor erro absoluto.\n",
        "\n",
        "Resultado utilizando o método de Euler: \\\\\n",
        "$fx = 1.82694818$, aproximadamente, $1.83$. \\\\\n",
        "Erro absoluto de aproximadamente $0.09$.\n",
        "\n",
        "Resultado utilizando o método de Runge Kutta de $3^a$ ordem: \\\\\n",
        "$fx = 1.73247183$, ou aproximadamente, $1.73$. \\\\\n",
        "Erro absoluto de aproximadamente $3.4 \\cdot 10^{-3}$."
      ]
    },
    {
      "cell_type": "markdown",
      "metadata": {
        "id": "DHfe4L8RnVRr"
      },
      "source": [
        "## Questão 2\n",
        "\n",
        "Seja ***P(t)*** o número de indivíduos de uma certa população\n",
        "medido em anos. Se a taxa de nascimentos é constante ***b*** e a taxa\n",
        "de mortalidade ***d*** é proporcional ao tamanho da população, então\n",
        "o crescimento da população é dado pela equação logística\n",
        "$$\n",
        "\\frac{dP\\left(t\\right)}{\\:dt}=bP\\left(t\\right)-k\\left(P\\left(t\\right)\\right)^2\n",
        "$$\n",
        "Onde $d=kP(t)$. Suponha que $P(0)= 50976, b = 2.9x10^{-2}$ e $k =\n",
        "1.4x10^{-7}$\n",
        ". Encontre a população estimada depois de 5 anos\n",
        "utilizando Runge-Kutta de ordem 4."
      ]
    },
    {
      "cell_type": "markdown",
      "metadata": {
        "id": "CwW607NeCrng"
      },
      "source": [
        "#### Substituindo a variável P(t) por y e adicionando os devidos valores:\n",
        "$$\\frac{dy}{\\:dt}=by-k\\left(y\\right)^2$$\n",
        "$$\\frac{dy}{\\:dt}=2.9\\cdot 10^{-2}\\cdot y-1.4\\cdot 10^{-7}\\cdot \\left(y\\right)^2$$"
      ]
    },
    {
      "cell_type": "markdown",
      "metadata": {
        "id": "oIAOe6yW1kfg"
      },
      "source": [
        "#### Método de Runge Kutta de quarta ordem"
      ]
    },
    {
      "cell_type": "markdown",
      "metadata": {
        "id": "gRNDfKag1kfg"
      },
      "source": [
        "$$ y_{i+1}=y_{i}+\\dfrac{1}{6}(k_{1}+2k_{2}+2k_{3}+k_{4})h$$\n",
        "\n",
        "$$ k_{1}=f(x_{i},y_{i}) $$\n",
        "\n",
        "$$ k_{2}=f(x_{i}+\\dfrac{1}{2}h,yi+\\dfrac{1}{2}k_{1}h)$$\n",
        "\n",
        "$$ k_{3}=f(x_{i}+\\dfrac{1}{2}h,yi+\\dfrac{1}{2}k_{2}h)$$\n",
        "\n",
        "$$ k_{4}=f(x_{i}+h,y_{i}+k_{3}h)$$"
      ]
    },
    {
      "cell_type": "code",
      "metadata": {
        "id": "suvlC9qk1kfh"
      },
      "source": [
        "def runge_kutta_4(xi,xf,f,y0,h):\n",
        "    n=int(((xf-xi)/h)+1)\n",
        "    x=np.linspace(xi,xf,n)\n",
        "    k=np.empty(4)\n",
        "    fx=np.empty(n)\n",
        "    fx[0]=y0\n",
        "    for i in range(1,n):\n",
        "        k[0]=f(x[i-1],fx[i-1])\n",
        "        k[1]=f(x[i-1]+(0.5*h),fx[i-1]+(0.5*k[0]*h))\n",
        "        k[2]=f(x[i-1]+(0.5*h),fx[i-1]+(0.5*k[1]*h))\n",
        "        k[3]=f(x[i-1]+h,fx[i-1]+(k[2]*h))\n",
        "        fx[i]=fx[i-1]+np.sum((((1/6)*k[0::3])+((1/3)*(k[1:3])))*h)\n",
        "    return x,fx   "
      ],
      "execution_count": null,
      "outputs": []
    },
    {
      "cell_type": "code",
      "metadata": {
        "id": "Ofq685q01kfh",
        "colab": {
          "base_uri": "https://localhost:8080/",
          "height": 501
        },
        "outputId": "ca61abee-61d7-4a06-f7aa-53c722d0255b"
      },
      "source": [
        "tempo=[]\n",
        "\n",
        "x,y=sy.symbols('x y')\n",
        "\n",
        "f=(2.9*10**-2)*y-(1.4*10**-7)*(y**2)\n",
        "\n",
        "f=sy.lambdify((x,y),f,'numpy')\n",
        "\n",
        "fig=plt.figure(figsize=(15,8))\n",
        "\n",
        "plt.grid()\n",
        "\n",
        "# Runge Kutta Quarta Ordem\n",
        "inicio = tm.perf_counter()\n",
        "x,fx=runge_kutta_4(0,5,f,50976,0.5)\n",
        "fim = tm.perf_counter()\n",
        "tempo.append(fim-inicio)\n",
        "plt.plot(x,fx,linestyle=':',marker='s')\n",
        "plt.legend(tempo)\n",
        "\n",
        "x=np.linspace(0,5)\n",
        "print(\"A previsão da população em 5 anos é de\", fx[-1])"
      ],
      "execution_count": null,
      "outputs": [
        {
          "output_type": "stream",
          "name": "stdout",
          "text": [
            "A previsão da população em 5 anos é de 56751.03676820663\n"
          ]
        },
        {
          "output_type": "display_data",
          "data": {
            "image/png": "[encoded data removed]",
            "text/plain": [
              "<Figure size 1080x576 with 1 Axes>"
            ]
          },
          "metadata": {
            "needs_background": "light"
          }
        }
      ]
    },
    {
      "cell_type": "markdown",
      "metadata": {
        "id": "T0J3RRnMBG3Q"
      },
      "source": [
        "#### A população estimada depois de 5 anos é de aproximadamente $56751$ pessoas."
      ]
    }
  ]
}